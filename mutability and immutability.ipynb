{
 "cells": [
  {
   "cell_type": "code",
   "execution_count": 1,
   "id": "257845f9-3eea-40e3-a9d2-a09f27bf1fd4",
   "metadata": {},
   "outputs": [],
   "source": [
    "a=6"
   ]
  },
  {
   "cell_type": "code",
   "execution_count": 2,
   "id": "2f5c7e97-17d5-4bde-ac75-c4674aa21937",
   "metadata": {},
   "outputs": [
    {
     "data": {
      "text/plain": [
       "6"
      ]
     },
     "execution_count": 2,
     "metadata": {},
     "output_type": "execute_result"
    }
   ],
   "source": [
    "a #In the memory ,a memory block is created with reference name a and value 6"
   ]
  },
  {
   "cell_type": "code",
   "execution_count": 3,
   "id": "1fb788a0-ccfc-48ee-a999-e98c9794f784",
   "metadata": {},
   "outputs": [],
   "source": [
    "b=\"Ajay\""
   ]
  },
  {
   "cell_type": "code",
   "execution_count": 4,
   "id": "39c2ce5b-da02-4ab8-9e64-96237858fdd5",
   "metadata": {},
   "outputs": [
    {
     "data": {
      "text/plain": [
       "'Ajay'"
      ]
     },
     "execution_count": 4,
     "metadata": {},
     "output_type": "execute_result"
    }
   ],
   "source": [
    "b"
   ]
  },
  {
   "cell_type": "code",
   "execution_count": 5,
   "id": "62c88822-3df5-4156-af45-b269c1f46a5b",
   "metadata": {},
   "outputs": [
    {
     "data": {
      "text/plain": [
       "'A'"
      ]
     },
     "execution_count": 5,
     "metadata": {},
     "output_type": "execute_result"
    }
   ],
   "source": [
    "b[0]"
   ]
  },
  {
   "cell_type": "code",
   "execution_count": 6,
   "id": "c32a5ac6-ff7f-4cdc-ab96-eb0629086724",
   "metadata": {},
   "outputs": [
    {
     "data": {
      "text/plain": [
       "'a'"
      ]
     },
     "execution_count": 6,
     "metadata": {},
     "output_type": "execute_result"
    }
   ],
   "source": [
    "b[2]"
   ]
  },
  {
   "cell_type": "code",
   "execution_count": 7,
   "id": "4c9ec8aa-d51f-462b-88b3-871b3adf52ea",
   "metadata": {},
   "outputs": [
    {
     "data": {
      "text/plain": [
       "'a'"
      ]
     },
     "execution_count": 7,
     "metadata": {},
     "output_type": "execute_result"
    }
   ],
   "source": [
    "b[-2]"
   ]
  },
  {
   "cell_type": "code",
   "execution_count": 8,
   "id": "de6a4eaa-c642-417a-a6bf-c201a4aff4ec",
   "metadata": {},
   "outputs": [
    {
     "data": {
      "text/plain": [
       "[1, 2, 3, 4.3, (3+5j), True, 'Ajay']"
      ]
     },
     "execution_count": 8,
     "metadata": {},
     "output_type": "execute_result"
    }
   ],
   "source": [
    "# Another type of data container\n",
    "list_count=[1,2,3,4.3,3+5j,True,\"Ajay\"]\n",
    "list_count"
   ]
  },
  {
   "cell_type": "code",
   "execution_count": 9,
   "id": "d7376468-77a4-4734-af8c-5351408d165c",
   "metadata": {},
   "outputs": [
    {
     "data": {
      "text/plain": [
       "1"
      ]
     },
     "execution_count": 9,
     "metadata": {},
     "output_type": "execute_result"
    }
   ],
   "source": [
    "list_count[0]"
   ]
  },
  {
   "cell_type": "code",
   "execution_count": 10,
   "id": "60486e92-10de-439a-b798-b59a4ec316a5",
   "metadata": {},
   "outputs": [
    {
     "data": {
      "text/plain": [
       "2"
      ]
     },
     "execution_count": 10,
     "metadata": {},
     "output_type": "execute_result"
    }
   ],
   "source": [
    "list_count[1]"
   ]
  },
  {
   "cell_type": "code",
   "execution_count": 11,
   "id": "a9aaba47-6b86-4f32-8696-176058b19084",
   "metadata": {},
   "outputs": [
    {
     "data": {
      "text/plain": [
       "(3+5j)"
      ]
     },
     "execution_count": 11,
     "metadata": {},
     "output_type": "execute_result"
    }
   ],
   "source": [
    "list_count[4]"
   ]
  },
  {
   "cell_type": "code",
   "execution_count": 12,
   "id": "b5d5435d-44fd-4a1b-9cf5-72ddda3f0464",
   "metadata": {},
   "outputs": [
    {
     "data": {
      "text/plain": [
       "list"
      ]
     },
     "execution_count": 12,
     "metadata": {},
     "output_type": "execute_result"
    }
   ],
   "source": [
    "type(list_count)"
   ]
  },
  {
   "cell_type": "code",
   "execution_count": 13,
   "id": "1997f6eb-c452-4991-a303-c332d5066a34",
   "metadata": {},
   "outputs": [
    {
     "data": {
      "text/plain": [
       "'Ajay'"
      ]
     },
     "execution_count": 13,
     "metadata": {},
     "output_type": "execute_result"
    }
   ],
   "source": [
    "list_count[6]"
   ]
  },
  {
   "cell_type": "code",
   "execution_count": 14,
   "id": "5f261d7d-6c90-4bee-b870-4e486f22fc25",
   "metadata": {},
   "outputs": [
    {
     "data": {
      "text/plain": [
       "'Ajay'"
      ]
     },
     "execution_count": 14,
     "metadata": {},
     "output_type": "execute_result"
    }
   ],
   "source": [
    "list_count[-1]"
   ]
  },
  {
   "cell_type": "code",
   "execution_count": 16,
   "id": "24fce3e5-34f9-448d-a425-473824c4d1a2",
   "metadata": {},
   "outputs": [],
   "source": [
    "# Mutability\n",
    "list_count[6]=\"Bijay\""
   ]
  },
  {
   "cell_type": "code",
   "execution_count": 17,
   "id": "0ac67d5d-8ce1-4786-9914-db44e4c9dbba",
   "metadata": {},
   "outputs": [
    {
     "data": {
      "text/plain": [
       "[1, 2, 3, 4.3, (3+5j), True, 'Bijay']"
      ]
     },
     "execution_count": 17,
     "metadata": {},
     "output_type": "execute_result"
    }
   ],
   "source": [
    "list_count"
   ]
  },
  {
   "cell_type": "code",
   "execution_count": 19,
   "id": "71470983-810b-4fbe-bf69-3e3f6edbc664",
   "metadata": {},
   "outputs": [
    {
     "data": {
      "text/plain": [
       "[100, 2, 3, 4.3, (3+5j), True, 'Bijay']"
      ]
     },
     "execution_count": 19,
     "metadata": {},
     "output_type": "execute_result"
    }
   ],
   "source": [
    "list_count[0]=100\n",
    "list_count"
   ]
  },
  {
   "cell_type": "code",
   "execution_count": 21,
   "id": "626cb885-5a9b-4d3d-b2be-7bf37bc567b5",
   "metadata": {},
   "outputs": [
    {
     "data": {
      "text/plain": [
       "[100, 2, 3, 4.3, (3+5j), True, 'Nikhil']"
      ]
     },
     "execution_count": 21,
     "metadata": {},
     "output_type": "execute_result"
    }
   ],
   "source": [
    "list_count[-1]=\"Nikhil\"\n",
    "list_count"
   ]
  },
  {
   "cell_type": "code",
   "execution_count": 22,
   "id": "0645a4df-9652-4abc-97f0-18dd24bce149",
   "metadata": {},
   "outputs": [],
   "source": [
    "# Object/container whose state or value can be changed after they are created are\n",
    "#called as mutable objects or container,\n",
    "#list is a type of mutable object/supports item assigment"
   ]
  },
  {
   "cell_type": "code",
   "execution_count": 23,
   "id": "7312d403-074f-4eab-a639-64415a098b5a",
   "metadata": {},
   "outputs": [
    {
     "data": {
      "text/plain": [
       "'pwskills'"
      ]
     },
     "execution_count": 23,
     "metadata": {},
     "output_type": "execute_result"
    }
   ],
   "source": [
    "b=\"pwskills\"\n",
    "b"
   ]
  },
  {
   "cell_type": "code",
   "execution_count": 24,
   "id": "7d3596ad-12c2-4892-8bb6-70888fc7c46a",
   "metadata": {},
   "outputs": [
    {
     "data": {
      "text/plain": [
       "'w'"
      ]
     },
     "execution_count": 24,
     "metadata": {},
     "output_type": "execute_result"
    }
   ],
   "source": [
    "b[1]"
   ]
  },
  {
   "cell_type": "code",
   "execution_count": 25,
   "id": "ce155e6d-5274-4207-8f3f-ea8f5da456df",
   "metadata": {},
   "outputs": [
    {
     "ename": "TypeError",
     "evalue": "'str' object does not support item assignment",
     "output_type": "error",
     "traceback": [
      "\u001b[0;31m---------------------------------------------------------------------------\u001b[0m",
      "\u001b[0;31mTypeError\u001b[0m                                 Traceback (most recent call last)",
      "Cell \u001b[0;32mIn[25], line 1\u001b[0m\n\u001b[0;32m----> 1\u001b[0m \u001b[43mb\u001b[49m\u001b[43m[\u001b[49m\u001b[38;5;241;43m1\u001b[39;49m\u001b[43m]\u001b[49m\u001b[38;5;241m=\u001b[39m\u001b[38;5;124m\"\u001b[39m\u001b[38;5;124mI\u001b[39m\u001b[38;5;124m\"\u001b[39m\n",
      "\u001b[0;31mTypeError\u001b[0m: 'str' object does not support item assignment"
     ]
    }
   ],
   "source": [
    "b[1]=\"I\""
   ]
  },
  {
   "cell_type": "code",
   "execution_count": null,
   "id": "48556078-bbff-4b22-bc67-30a3fbf12d92",
   "metadata": {},
   "outputs": [],
   "source": [
    "b[5]=\"\""
   ]
  }
 ],
 "metadata": {
  "kernelspec": {
   "display_name": "Python 3 (ipykernel)",
   "language": "python",
   "name": "python3"
  },
  "language_info": {
   "codemirror_mode": {
    "name": "ipython",
    "version": 3
   },
   "file_extension": ".py",
   "mimetype": "text/x-python",
   "name": "python",
   "nbconvert_exporter": "python",
   "pygments_lexer": "ipython3",
   "version": "3.10.8"
  }
 },
 "nbformat": 4,
 "nbformat_minor": 5
}
